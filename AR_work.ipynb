{
 "cells": [
  {
   "cell_type": "code",
   "execution_count": 1,
   "id": "a85d7335-8d88-4c9e-9573-200a1ad44c9c",
   "metadata": {},
   "outputs": [],
   "source": [
    "import matplotlib.pyplot as plt\n",
    "import glob\n",
    "from astropy.io import fits\n",
    "from astropy.visualization import make_lupton_rgb\n",
    "import numpy as np\n",
    "import scipy.ndimage as snd\n",
    "from scipy import optimize\n",
    "\n"
   ]
  },
  {
   "cell_type": "code",
   "execution_count": null,
   "id": "e1725da5-97c8-4237-8c6e-a31f0a5f933a",
   "metadata": {},
   "outputs": [],
   "source": [
    "def find_skylevel(filt, file_path, plot=True):\n",
    "    \"\"\" \n",
    "    Measures background noise\n",
    "    \"\"\"\n",
    "    backnoise=[]\n",
    "    numpix_list, aduval_list = [], []\n",
    "    \n",
    "    numpix, aduvals = np.histogram(fits.getdata(science_red_files_all[i]).flatten(), \n",
    "                                           bins=1000, range=[-1e3,5e3])\n",
    "            skylevel = aduvals[where(numpix==numpix.max())][0]\n",
    "            skylevels.append(skylevel)\n",
    "            numpix_list.append(numpix)\n",
    "            aduval_list.append(aduvals)\n",
    "            \n",
    "    if plot:\n",
    "        plt.figure(figsize=(18,9))\n",
    "        for i in range(len(skylevels)):\n",
    "            plt.plot(aduval_list[i][:-1], numpix_list[i],\n",
    "                     label=str(science_red_files_filt[i].split('/')[-1]))\n",
    "            plt.axvline(skylevels[i], color='k')\n",
    "        plt.xlabel('pix val',fontsize=20)\n",
    "        plt.ylabel('number of pixels',fontsize=20)\n",
    "        plt.yscale('log')\n",
    "        plt.legend()\n",
    "        plt.title('Histogram of reduced '+filt+' frame pixel values',fontsize=20)\n",
    "            \n",
    "    return skylevels, science_red_files_filt"
   ]
  },
  {
   "cell_type": "code",
   "execution_count": 4,
   "id": "3f2c2ca7-7522-4e70-935c-85afa06a9d9f",
   "metadata": {},
   "outputs": [],
   "source": [
    "def find_object_centroids_filterbysize(img, threshold, minsize):\n",
    "    \"\"\"\n",
    "    inputs: \n",
    "    img --> 2D array \n",
    "    threshold --> single value\n",
    "    minsize --> minimum object size\n",
    "    \"\"\"\n",
    "\n",
    "    labels, num = snd.label(img > threshold, np.ones((3,3)))     # scipy labels/segments the image using a threshold\n",
    "    centers = snd.center_of_mass(img, labels, range(1,num+1))    # scipy calculates the center of mass on the labeled img\n",
    "    #print(centers)\n",
    "    x = array(centers)[:,1]\n",
    "    y = array(centers)[:,0]\n",
    "    slices = snd.find_objects(labels)\n",
    "    xs = np.array([objlabel[1].stop-objlabel[1].start for objlabel in slices])  # takes the min and max label slices\n",
    "    ys = np.array([objlabel[0].stop-objlabel[0].start for objlabel in slices])  #  to find a rough object size\n",
    "\n",
    "    maxsize = 1025    # I hardcoded this in so that some spurious objects would be skipped. Change/delete if you like\n",
    "    bigenough = np.where((xs>minsize) & (ys>minsize) & (xs<maxsize) & (ys<maxsize))\n",
    "    xc,yc = x[bigenough],y[bigenough]\n",
    "    xs,ys = xs[bigenough],ys[bigenough]\n",
    "    \n",
    "    print(str(len(xc))+' objects found')\n",
    "    return xc,yc,xs,ys\n"
   ]
  },
  {
   "cell_type": "code",
   "execution_count": null,
   "id": "b83e83f6-0ad4-4068-a864-45427d7d81d6",
   "metadata": {},
   "outputs": [],
   "source": []
  }
 ],
 "metadata": {
  "kernelspec": {
   "display_name": "Python 3",
   "language": "python",
   "name": "python3"
  },
  "language_info": {
   "codemirror_mode": {
    "name": "ipython",
    "version": 3
   },
   "file_extension": ".py",
   "mimetype": "text/x-python",
   "name": "python",
   "nbconvert_exporter": "python",
   "pygments_lexer": "ipython3",
   "version": "3.8.8"
  }
 },
 "nbformat": 4,
 "nbformat_minor": 5
}
